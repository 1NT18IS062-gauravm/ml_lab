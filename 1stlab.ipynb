{
 "cells": [
  {
   "cell_type": "code",
   "execution_count": 1,
   "id": "e564c01f",
   "metadata": {},
   "outputs": [],
   "source": [
    "def mean(arr):\n",
    "    s=0\n",
    "    n=len(arr)\n",
    "    for i in arr:\n",
    "        s=s+i\n",
    "        return s/n\n",
    "    \n",
    "    "
   ]
  },
  {
   "cell_type": "code",
   "execution_count": 2,
   "id": "06c5ecb3",
   "metadata": {},
   "outputs": [
    {
     "data": {
      "text/plain": [
       "0.25"
      ]
     },
     "execution_count": 2,
     "metadata": {},
     "output_type": "execute_result"
    }
   ],
   "source": [
    "mean([1,2,3,4])"
   ]
  },
  {
   "cell_type": "code",
   "execution_count": 3,
   "id": "38240c8f",
   "metadata": {},
   "outputs": [
    {
     "data": {
      "text/plain": [
       "0.2"
      ]
     },
     "execution_count": 3,
     "metadata": {},
     "output_type": "execute_result"
    }
   ],
   "source": [
    "mean([1,2,5,3,4])"
   ]
  },
  {
   "cell_type": "code",
   "execution_count": 7,
   "id": "5f7b4ec3",
   "metadata": {},
   "outputs": [
    {
     "name": "stdout",
     "output_type": "stream",
     "text": [
      "7.714285714285714\n",
      "4.5\n",
      "3\n"
     ]
    }
   ],
   "source": [
    "import statistics\n",
    "a=[1,3,3,24,3,2,4,5,6,4,6,7,33,7]\n",
    "x=statistics.mean(a)\n",
    "print(x)\n",
    "y=statistics.median(a)\n",
    "print(y)\n",
    "z=statistics.mode(a)\n",
    "print(z)"
   ]
  },
  {
   "cell_type": "code",
   "execution_count": 8,
   "id": "688d8874",
   "metadata": {},
   "outputs": [],
   "source": [
    "def stdvar(arr):\n",
    "    mea=mean(arr)\n",
    "    n=len(arr)\n",
    "    sd=0\n",
    "    r=0\n",
    "    for i in arr:\n",
    "        sd=sd+(i-mea)**2\n",
    "        r=(sd/n)**(1/2)\n",
    "        v=sd/n\n",
    "        return r,v\n",
    "    "
   ]
  },
  {
   "cell_type": "code",
   "execution_count": 9,
   "id": "e59f8f13",
   "metadata": {},
   "outputs": [
    {
     "data": {
      "text/plain": [
       "(3.8490017945975046, 14.814814814814811)"
      ]
     },
     "execution_count": 9,
     "metadata": {},
     "output_type": "execute_result"
    }
   ],
   "source": [
    "stdvar([10,20,30])"
   ]
  },
  {
   "cell_type": "code",
   "execution_count": null,
   "id": "1553a326",
   "metadata": {},
   "outputs": [],
   "source": []
  }
 ],
 "metadata": {
  "kernelspec": {
   "display_name": "Python 3",
   "language": "python",
   "name": "python3"
  },
  "language_info": {
   "codemirror_mode": {
    "name": "ipython",
    "version": 3
   },
   "file_extension": ".py",
   "mimetype": "text/x-python",
   "name": "python",
   "nbconvert_exporter": "python",
   "pygments_lexer": "ipython3",
   "version": "3.8.8"
  }
 },
 "nbformat": 4,
 "nbformat_minor": 5
}
